{
 "cells": [
  {
   "cell_type": "code",
   "execution_count": null,
   "id": "af3aedfa-8d77-4fe6-8c9e-3ac5b58dbce6",
   "metadata": {},
   "outputs": [],
   "source": [
    "!pip install pymongo"
   ]
  },
  {
   "cell_type": "code",
   "execution_count": 2,
   "id": "8c1f042a-d7b3-4293-b29b-92e580a0d0c6",
   "metadata": {},
   "outputs": [],
   "source": [
    "import os\n",
    "import datetime\n",
    "import pymongo\n",
    "import pprint\n",
    "import pandas as pd"
   ]
  },
  {
   "cell_type": "code",
   "execution_count": 8,
   "id": "ea10ec7d-6344-4f39-b21d-683615a14285",
   "metadata": {},
   "outputs": [],
   "source": [
    "# Part 1\n",
    "host_name = \"localhost\"\n",
    "port = \"27017\""
   ]
  },
  {
   "cell_type": "code",
   "execution_count": 4,
   "id": "292716e4-9506-4b49-94f9-a9186bdc6150",
   "metadata": {},
   "outputs": [],
   "source": [
    "conn_str = {\n",
    "    \"local\" : f\"mongodb://{host_name}:{port}/\",\n",
    "}"
   ]
  },
  {
   "cell_type": "code",
   "execution_count": 6,
   "id": "64219066-0443-41d4-befb-85c1ae1cd137",
   "metadata": {},
   "outputs": [
    {
     "name": "stdout",
     "output_type": "stream",
     "text": [
      "Local Connection String: mongodb://localhost:27017/\n"
     ]
    }
   ],
   "source": [
    "client = pymongo.MongoClient(conn_str[\"local\"])\n",
    "\n",
    "print(f\"Local Connection String: {conn_str['local']}\")"
   ]
  },
  {
   "cell_type": "code",
   "execution_count": 9,
   "id": "f8fb45af-6557-4128-88d8-eaf0a48d2f31",
   "metadata": {},
   "outputs": [
    {
     "data": {
      "text/plain": [
       "['admin', 'config', 'local']"
      ]
     },
     "execution_count": 9,
     "metadata": {},
     "output_type": "execute_result"
    }
   ],
   "source": [
    "client.list_database_names()"
   ]
  },
  {
   "cell_type": "code",
   "execution_count": 10,
   "id": "0aed675d-742a-4d65-bfb2-c830fbc026ed",
   "metadata": {},
   "outputs": [
    {
     "data": {
      "text/plain": [
       "[]"
      ]
     },
     "execution_count": 10,
     "metadata": {},
     "output_type": "execute_result"
    }
   ],
   "source": [
    "# Part 2\n",
    "db_name = \"RileyFletcher_class\"\n",
    "db = client[db_name]\n",
    "db.list_collection_names()"
   ]
  },
  {
   "cell_type": "code",
   "execution_count": 16,
   "id": "7dc23ed4-e0b9-485d-ab41-34693c6d00bc",
   "metadata": {},
   "outputs": [
    {
     "name": "stdout",
     "output_type": "stream",
     "text": [
      "Document ID:  6603bdcac300168b31f48b6c\n",
      "Databases:  ['RileyFletcher_class', 'admin', 'config', 'local']\n",
      "Collections:  ['students']\n"
     ]
    }
   ],
   "source": [
    "# Part 3\n",
    "student = {\"name\": \"Riley\",\n",
    "           \"age\": 21,\n",
    "           \"school\": \"UVA\",\n",
    "           \"major\": \"Computer Science\",\n",
    "           \"hobby\": \"Reading\"\n",
    "       }\n",
    "\n",
    "students = db.students\n",
    "student_id = students.insert_one(student).inserted_id\n",
    "\n",
    "print(\"Document ID: \", student_id)\n",
    "\n",
    "print(\"Databases: \", client.list_database_names())\n",
    "print(\"Collections: \", db.list_collection_names())"
   ]
  },
  {
   "cell_type": "code",
   "execution_count": 18,
   "id": "76d971a6-e706-4353-b822-1f13863c8ba9",
   "metadata": {},
   "outputs": [
    {
     "name": "stdout",
     "output_type": "stream",
     "text": [
      "[ObjectId('6603be2bc300168b31f48b6d'),\n",
      " ObjectId('6603be2bc300168b31f48b6e'),\n",
      " ObjectId('6603be2bc300168b31f48b6f')]\n"
     ]
    }
   ],
   "source": [
    "new_students = [{\"name\": \"Jack\",\n",
    "           \"age\": 22,\n",
    "           \"school\": \"UVA\",\n",
    "           \"major\": \"Computer Engineering\",\n",
    "           \"hobby\": \"Biking\"\n",
    "         },\n",
    "         {\"name\": \"Emma\",\n",
    "           \"age\": 20,\n",
    "           \"school\": \"UVA\",\n",
    "           \"major\": \"Biology\",\n",
    "           \"hobby\": \"Hiking\"\n",
    "         },\n",
    "         {\"name\": \"Arthur\",\n",
    "           \"age\": 20,\n",
    "           \"school\": \"Virginia Tech\",\n",
    "           \"major\": \"Computer Science\",\n",
    "           \"hobby\": \"Guitar\"}]\n",
    "\n",
    "result = students.insert_many(new_students)\n",
    "pprint.pprint(result.inserted_ids)"
   ]
  },
  {
   "cell_type": "code",
   "execution_count": 19,
   "id": "ce285ac6-46b5-4203-b1e8-464840cac810",
   "metadata": {},
   "outputs": [
    {
     "name": "stdout",
     "output_type": "stream",
     "text": [
      "{'_id': ObjectId('6603bcccc300168b31f48b6a'),\n",
      " 'age': 21,\n",
      " 'hobby': 'Reading',\n",
      " 'major': 'Computer Science',\n",
      " 'name': 'Riley',\n",
      " 'school': 'UVA'}\n",
      "{'_id': ObjectId('6603bd24c300168b31f48b6b'),\n",
      " 'age': 21,\n",
      " 'hobby': 'Reading',\n",
      " 'major': 'Computer Science',\n",
      " 'name': 'Riley',\n",
      " 'school': 'UVA'}\n",
      "{'_id': ObjectId('6603bdcac300168b31f48b6c'),\n",
      " 'age': 21,\n",
      " 'hobby': 'Reading',\n",
      " 'major': 'Computer Science',\n",
      " 'name': 'Riley',\n",
      " 'school': 'UVA'}\n",
      "{'_id': ObjectId('6603be2bc300168b31f48b6d'),\n",
      " 'age': 22,\n",
      " 'hobby': 'Biking',\n",
      " 'major': 'Computer Engineering',\n",
      " 'name': 'Jack',\n",
      " 'school': 'UVA'}\n",
      "{'_id': ObjectId('6603be2bc300168b31f48b6e'),\n",
      " 'age': 20,\n",
      " 'hobby': 'Hiking',\n",
      " 'major': 'Biology',\n",
      " 'name': 'Emma',\n",
      " 'school': 'UVA'}\n",
      "{'_id': ObjectId('6603be2bc300168b31f48b6f'),\n",
      " 'age': 20,\n",
      " 'hobby': 'Guitar',\n",
      " 'major': 'Computer Science',\n",
      " 'name': 'Arthur',\n",
      " 'school': 'Virginia Tech'}\n"
     ]
    }
   ],
   "source": [
    "# Part 4\n",
    "for student in students.find():\n",
    "    pprint.pprint(student)"
   ]
  },
  {
   "cell_type": "code",
   "execution_count": 20,
   "id": "42bb3c25-5e11-451f-9dd4-e3238ac72ed4",
   "metadata": {},
   "outputs": [
    {
     "name": "stdout",
     "output_type": "stream",
     "text": [
      "{'_id': ObjectId('6603bcccc300168b31f48b6a'),\n",
      " 'age': 21,\n",
      " 'hobby': 'Reading',\n",
      " 'major': 'Computer Science',\n",
      " 'name': 'Riley',\n",
      " 'school': 'UVA'}\n",
      "{'_id': ObjectId('6603bd24c300168b31f48b6b'),\n",
      " 'age': 21,\n",
      " 'hobby': 'Reading',\n",
      " 'major': 'Computer Science',\n",
      " 'name': 'Riley',\n",
      " 'school': 'UVA'}\n",
      "{'_id': ObjectId('6603bdcac300168b31f48b6c'),\n",
      " 'age': 21,\n",
      " 'hobby': 'Reading',\n",
      " 'major': 'Computer Science',\n",
      " 'name': 'Riley',\n",
      " 'school': 'UVA'}\n",
      "{'_id': ObjectId('6603be2bc300168b31f48b6d'),\n",
      " 'age': 22,\n",
      " 'hobby': 'Biking',\n",
      " 'major': 'Computer Engineering',\n",
      " 'name': 'Jack',\n",
      " 'school': 'UVA'}\n",
      "{'_id': ObjectId('6603be2bc300168b31f48b6e'),\n",
      " 'age': 20,\n",
      " 'hobby': 'Hiking',\n",
      " 'major': 'Biology',\n",
      " 'name': 'Emma',\n",
      " 'school': 'UVA'}\n"
     ]
    }
   ],
   "source": [
    "for student in students.find( {\"school\" : \"UVA\"} ):\n",
    "    pprint.pprint(student)"
   ]
  },
  {
   "cell_type": "code",
   "execution_count": 25,
   "id": "a0d7fd65-1910-4708-a2de-93011125a32e",
   "metadata": {},
   "outputs": [
    {
     "name": "stdout",
     "output_type": "stream",
     "text": [
      "Number of documents updated: 1\n",
      "{'_id': ObjectId('6603bcccc300168b31f48b6a'),\n",
      " 'age': 21,\n",
      " 'hobby': 'Reading',\n",
      " 'major': 'Computer Science',\n",
      " 'name': 'Riley',\n",
      " 'school': 'UVA'}\n",
      "{'_id': ObjectId('6603bd24c300168b31f48b6b'),\n",
      " 'age': 21,\n",
      " 'hobby': 'Reading',\n",
      " 'major': 'Computer Science',\n",
      " 'name': 'Riley',\n",
      " 'school': 'UVA'}\n",
      "{'_id': ObjectId('6603bdcac300168b31f48b6c'),\n",
      " 'age': 21,\n",
      " 'hobby': 'Reading',\n",
      " 'major': 'Computer Science',\n",
      " 'name': 'Riley',\n",
      " 'school': 'UVA'}\n",
      "{'_id': ObjectId('6603be2bc300168b31f48b6d'),\n",
      " 'age': 22,\n",
      " 'hobby': 'Biking',\n",
      " 'major': 'Computer Engineering',\n",
      " 'name': 'Jack',\n",
      " 'school': 'UVA'}\n",
      "{'_id': ObjectId('6603be2bc300168b31f48b6e'),\n",
      " 'age': 20,\n",
      " 'hobby': 'Hiking',\n",
      " 'major': 'Engineering',\n",
      " 'name': 'Emma',\n",
      " 'school': 'UVA'}\n",
      "{'_id': ObjectId('6603be2bc300168b31f48b6f'),\n",
      " 'age': 20,\n",
      " 'hobby': 'Guitar',\n",
      " 'major': 'Computer Science',\n",
      " 'name': 'Arthur',\n",
      " 'school': 'Virginia Tech'}\n"
     ]
    }
   ],
   "source": [
    "# Part 5\n",
    "filter_query = {'name': 'Emma', 'school': 'UVA'} \n",
    "update_query = {'$set': {'age': 20,\n",
    "     'hobby': 'Hiking',\n",
    "     'major': 'Engineering',\n",
    "     'name': 'Emma',\n",
    "     'school': 'UVA'}}\n",
    "result = students.update_one(filter_query, update_query)\n",
    "print(f'Number of documents updated: {result.modified_count}')\n",
    "for student in students.find():\n",
    "    pprint.pprint(student)"
   ]
  },
  {
   "cell_type": "code",
   "execution_count": 27,
   "id": "83f6c143-eb6a-4ff6-a7ee-9f8ec3dad6f0",
   "metadata": {},
   "outputs": [
    {
     "name": "stdout",
     "output_type": "stream",
     "text": [
      "Number of documents updated: 4\n",
      "{'_id': ObjectId('6603bcccc300168b31f48b6a'),\n",
      " 'age': 21,\n",
      " 'hobby': 'Reading',\n",
      " 'major': 'Data Science',\n",
      " 'name': 'Riley',\n",
      " 'school': 'UVA'}\n",
      "{'_id': ObjectId('6603bd24c300168b31f48b6b'),\n",
      " 'age': 21,\n",
      " 'hobby': 'Reading',\n",
      " 'major': 'Data Science',\n",
      " 'name': 'Riley',\n",
      " 'school': 'UVA'}\n",
      "{'_id': ObjectId('6603bdcac300168b31f48b6c'),\n",
      " 'age': 21,\n",
      " 'hobby': 'Reading',\n",
      " 'major': 'Data Science',\n",
      " 'name': 'Riley',\n",
      " 'school': 'UVA'}\n",
      "{'_id': ObjectId('6603be2bc300168b31f48b6d'),\n",
      " 'age': 22,\n",
      " 'hobby': 'Biking',\n",
      " 'major': 'Computer Engineering',\n",
      " 'name': 'Jack',\n",
      " 'school': 'UVA'}\n",
      "{'_id': ObjectId('6603be2bc300168b31f48b6e'),\n",
      " 'age': 20,\n",
      " 'hobby': 'Hiking',\n",
      " 'major': 'Engineering',\n",
      " 'name': 'Emma',\n",
      " 'school': 'UVA'}\n",
      "{'_id': ObjectId('6603be2bc300168b31f48b6f'),\n",
      " 'age': 20,\n",
      " 'hobby': 'Guitar',\n",
      " 'major': 'Data Science',\n",
      " 'name': 'Arthur',\n",
      " 'school': 'Virginia Tech'}\n"
     ]
    }
   ],
   "source": [
    "filter_query = {'major': 'Computer Science'} \n",
    "update_query = {'$set': {'major': 'Data Science'}}\n",
    "                \n",
    "result = students.update_many(filter_query, update_query)\n",
    "print(f'Number of documents updated: {result.modified_count}')\n",
    "for student in students.find():\n",
    "    pprint.pprint(student)"
   ]
  },
  {
   "cell_type": "code",
   "execution_count": 29,
   "id": "fe485d79-3657-4d58-bb70-51d060cbaa0e",
   "metadata": {},
   "outputs": [
    {
     "name": "stdout",
     "output_type": "stream",
     "text": [
      "Number of documents deleted: 1\n",
      "Number of documents deleted: 4\n"
     ]
    }
   ],
   "source": [
    "# Part 6\n",
    "filter_query = {'name': 'Emma'}\n",
    "result = students.delete_one(filter_query)\n",
    "print(f'Number of documents deleted: {result.deleted_count}')\n",
    "\n",
    "filter_query = {'major': 'Data Science'}\n",
    "result = students.delete_many(filter_query)\n",
    "print(f'Number of documents deleted: {result.deleted_count}')"
   ]
  },
  {
   "cell_type": "code",
   "execution_count": null,
   "id": "7cae692f-82f6-4ea7-85b8-980d5991d4c0",
   "metadata": {},
   "outputs": [],
   "source": []
  }
 ],
 "metadata": {
  "kernelspec": {
   "display_name": "Python 3 (ipykernel)",
   "language": "python",
   "name": "python3"
  },
  "language_info": {
   "codemirror_mode": {
    "name": "ipython",
    "version": 3
   },
   "file_extension": ".py",
   "mimetype": "text/x-python",
   "name": "python",
   "nbconvert_exporter": "python",
   "pygments_lexer": "ipython3",
   "version": "3.12.1"
  }
 },
 "nbformat": 4,
 "nbformat_minor": 5
}
